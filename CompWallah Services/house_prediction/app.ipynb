{
 "cells": [
  {
   "cell_type": "markdown",
   "metadata": {},
   "source": [
    "#### Problem Statement: To prepare a machine learning  based model, trained on the House Price Prediction Dataset. "
   ]
  },
  {
   "cell_type": "code",
   "execution_count": 1,
   "metadata": {},
   "outputs": [],
   "source": [
    "#Importing the libraries required for importing the data i.e house price prediction.\n",
    "import numpy as np\n",
    "import pandas as pd"
   ]
  },
  {
   "cell_type": "code",
   "execution_count": 2,
   "metadata": {},
   "outputs": [
    {
     "data": {
      "text/html": [
       "<div>\n",
       "<style scoped>\n",
       "    .dataframe tbody tr th:only-of-type {\n",
       "        vertical-align: middle;\n",
       "    }\n",
       "\n",
       "    .dataframe tbody tr th {\n",
       "        vertical-align: top;\n",
       "    }\n",
       "\n",
       "    .dataframe thead th {\n",
       "        text-align: right;\n",
       "    }\n",
       "</style>\n",
       "<table border=\"1\" class=\"dataframe\">\n",
       "  <thead>\n",
       "    <tr style=\"text-align: right;\">\n",
       "      <th></th>\n",
       "      <th>Id</th>\n",
       "      <th>MSSubClass</th>\n",
       "      <th>MSZoning</th>\n",
       "      <th>LotArea</th>\n",
       "      <th>LotConfig</th>\n",
       "      <th>BldgType</th>\n",
       "      <th>OverallCond</th>\n",
       "      <th>YearBuilt</th>\n",
       "      <th>YearRemodAdd</th>\n",
       "      <th>Exterior1st</th>\n",
       "      <th>BsmtFinSF2</th>\n",
       "      <th>TotalBsmtSF</th>\n",
       "      <th>SalePrice</th>\n",
       "    </tr>\n",
       "  </thead>\n",
       "  <tbody>\n",
       "    <tr>\n",
       "      <th>0</th>\n",
       "      <td>0</td>\n",
       "      <td>60</td>\n",
       "      <td>RL</td>\n",
       "      <td>8450</td>\n",
       "      <td>Inside</td>\n",
       "      <td>1Fam</td>\n",
       "      <td>5</td>\n",
       "      <td>2003</td>\n",
       "      <td>2003</td>\n",
       "      <td>VinylSd</td>\n",
       "      <td>0.0</td>\n",
       "      <td>856.0</td>\n",
       "      <td>208500.0</td>\n",
       "    </tr>\n",
       "    <tr>\n",
       "      <th>1</th>\n",
       "      <td>1</td>\n",
       "      <td>20</td>\n",
       "      <td>RL</td>\n",
       "      <td>9600</td>\n",
       "      <td>FR2</td>\n",
       "      <td>1Fam</td>\n",
       "      <td>8</td>\n",
       "      <td>1976</td>\n",
       "      <td>1976</td>\n",
       "      <td>MetalSd</td>\n",
       "      <td>0.0</td>\n",
       "      <td>1262.0</td>\n",
       "      <td>181500.0</td>\n",
       "    </tr>\n",
       "    <tr>\n",
       "      <th>2</th>\n",
       "      <td>2</td>\n",
       "      <td>60</td>\n",
       "      <td>RL</td>\n",
       "      <td>11250</td>\n",
       "      <td>Inside</td>\n",
       "      <td>1Fam</td>\n",
       "      <td>5</td>\n",
       "      <td>2001</td>\n",
       "      <td>2002</td>\n",
       "      <td>VinylSd</td>\n",
       "      <td>0.0</td>\n",
       "      <td>920.0</td>\n",
       "      <td>223500.0</td>\n",
       "    </tr>\n",
       "    <tr>\n",
       "      <th>3</th>\n",
       "      <td>3</td>\n",
       "      <td>70</td>\n",
       "      <td>RL</td>\n",
       "      <td>9550</td>\n",
       "      <td>Corner</td>\n",
       "      <td>1Fam</td>\n",
       "      <td>5</td>\n",
       "      <td>1915</td>\n",
       "      <td>1970</td>\n",
       "      <td>Wd Sdng</td>\n",
       "      <td>0.0</td>\n",
       "      <td>756.0</td>\n",
       "      <td>140000.0</td>\n",
       "    </tr>\n",
       "    <tr>\n",
       "      <th>4</th>\n",
       "      <td>4</td>\n",
       "      <td>60</td>\n",
       "      <td>RL</td>\n",
       "      <td>14260</td>\n",
       "      <td>FR2</td>\n",
       "      <td>1Fam</td>\n",
       "      <td>5</td>\n",
       "      <td>2000</td>\n",
       "      <td>2000</td>\n",
       "      <td>VinylSd</td>\n",
       "      <td>0.0</td>\n",
       "      <td>1145.0</td>\n",
       "      <td>250000.0</td>\n",
       "    </tr>\n",
       "    <tr>\n",
       "      <th>...</th>\n",
       "      <td>...</td>\n",
       "      <td>...</td>\n",
       "      <td>...</td>\n",
       "      <td>...</td>\n",
       "      <td>...</td>\n",
       "      <td>...</td>\n",
       "      <td>...</td>\n",
       "      <td>...</td>\n",
       "      <td>...</td>\n",
       "      <td>...</td>\n",
       "      <td>...</td>\n",
       "      <td>...</td>\n",
       "      <td>...</td>\n",
       "    </tr>\n",
       "    <tr>\n",
       "      <th>2914</th>\n",
       "      <td>2914</td>\n",
       "      <td>160</td>\n",
       "      <td>RM</td>\n",
       "      <td>1936</td>\n",
       "      <td>Inside</td>\n",
       "      <td>Twnhs</td>\n",
       "      <td>7</td>\n",
       "      <td>1970</td>\n",
       "      <td>1970</td>\n",
       "      <td>CemntBd</td>\n",
       "      <td>0.0</td>\n",
       "      <td>546.0</td>\n",
       "      <td>NaN</td>\n",
       "    </tr>\n",
       "    <tr>\n",
       "      <th>2915</th>\n",
       "      <td>2915</td>\n",
       "      <td>160</td>\n",
       "      <td>RM</td>\n",
       "      <td>1894</td>\n",
       "      <td>Inside</td>\n",
       "      <td>TwnhsE</td>\n",
       "      <td>5</td>\n",
       "      <td>1970</td>\n",
       "      <td>1970</td>\n",
       "      <td>CemntBd</td>\n",
       "      <td>0.0</td>\n",
       "      <td>546.0</td>\n",
       "      <td>NaN</td>\n",
       "    </tr>\n",
       "    <tr>\n",
       "      <th>2916</th>\n",
       "      <td>2916</td>\n",
       "      <td>20</td>\n",
       "      <td>RL</td>\n",
       "      <td>20000</td>\n",
       "      <td>Inside</td>\n",
       "      <td>1Fam</td>\n",
       "      <td>7</td>\n",
       "      <td>1960</td>\n",
       "      <td>1996</td>\n",
       "      <td>VinylSd</td>\n",
       "      <td>0.0</td>\n",
       "      <td>1224.0</td>\n",
       "      <td>NaN</td>\n",
       "    </tr>\n",
       "    <tr>\n",
       "      <th>2917</th>\n",
       "      <td>2917</td>\n",
       "      <td>85</td>\n",
       "      <td>RL</td>\n",
       "      <td>10441</td>\n",
       "      <td>Inside</td>\n",
       "      <td>1Fam</td>\n",
       "      <td>5</td>\n",
       "      <td>1992</td>\n",
       "      <td>1992</td>\n",
       "      <td>HdBoard</td>\n",
       "      <td>0.0</td>\n",
       "      <td>912.0</td>\n",
       "      <td>NaN</td>\n",
       "    </tr>\n",
       "    <tr>\n",
       "      <th>2918</th>\n",
       "      <td>2918</td>\n",
       "      <td>60</td>\n",
       "      <td>RL</td>\n",
       "      <td>9627</td>\n",
       "      <td>Inside</td>\n",
       "      <td>1Fam</td>\n",
       "      <td>5</td>\n",
       "      <td>1993</td>\n",
       "      <td>1994</td>\n",
       "      <td>HdBoard</td>\n",
       "      <td>0.0</td>\n",
       "      <td>996.0</td>\n",
       "      <td>NaN</td>\n",
       "    </tr>\n",
       "  </tbody>\n",
       "</table>\n",
       "<p>2919 rows × 13 columns</p>\n",
       "</div>"
      ],
      "text/plain": [
       "        Id  MSSubClass MSZoning  LotArea LotConfig BldgType  OverallCond  \\\n",
       "0        0          60       RL     8450    Inside     1Fam            5   \n",
       "1        1          20       RL     9600       FR2     1Fam            8   \n",
       "2        2          60       RL    11250    Inside     1Fam            5   \n",
       "3        3          70       RL     9550    Corner     1Fam            5   \n",
       "4        4          60       RL    14260       FR2     1Fam            5   \n",
       "...    ...         ...      ...      ...       ...      ...          ...   \n",
       "2914  2914         160       RM     1936    Inside    Twnhs            7   \n",
       "2915  2915         160       RM     1894    Inside   TwnhsE            5   \n",
       "2916  2916          20       RL    20000    Inside     1Fam            7   \n",
       "2917  2917          85       RL    10441    Inside     1Fam            5   \n",
       "2918  2918          60       RL     9627    Inside     1Fam            5   \n",
       "\n",
       "      YearBuilt  YearRemodAdd Exterior1st  BsmtFinSF2  TotalBsmtSF  SalePrice  \n",
       "0          2003          2003     VinylSd         0.0        856.0   208500.0  \n",
       "1          1976          1976     MetalSd         0.0       1262.0   181500.0  \n",
       "2          2001          2002     VinylSd         0.0        920.0   223500.0  \n",
       "3          1915          1970     Wd Sdng         0.0        756.0   140000.0  \n",
       "4          2000          2000     VinylSd         0.0       1145.0   250000.0  \n",
       "...         ...           ...         ...         ...          ...        ...  \n",
       "2914       1970          1970     CemntBd         0.0        546.0        NaN  \n",
       "2915       1970          1970     CemntBd         0.0        546.0        NaN  \n",
       "2916       1960          1996     VinylSd         0.0       1224.0        NaN  \n",
       "2917       1992          1992     HdBoard         0.0        912.0        NaN  \n",
       "2918       1993          1994     HdBoard         0.0        996.0        NaN  \n",
       "\n",
       "[2919 rows x 13 columns]"
      ]
     },
     "execution_count": 2,
     "metadata": {},
     "output_type": "execute_result"
    }
   ],
   "source": [
    "#Importing the data i.e house price prediction\n",
    "df = pd.read_csv('./HousePricePrediction.csv')\n",
    "df"
   ]
  },
  {
   "cell_type": "markdown",
   "metadata": {},
   "source": [
    "##### Now understanding the attributes used in the house price prediction so as to proceed further."
   ]
  },
  {
   "cell_type": "markdown",
   "metadata": {},
   "source": [
    "###### Id\tTo count the records.\n",
    "###### MSSubClass\t Identifies the type of dwelling involved in the sale.\n",
    "###### MSZoning\tIdentifies the general zoning classification of the sale.\n",
    "###### LotArea\t Lot size in square feet.\n",
    "###### LotConfig\tConfiguration of the lot\n",
    "###### BldgType\tType of dwelling\n",
    "###### OverallCond\tRates the overall condition of the house\n",
    "###### YearBuilt\tOriginal construction year\n",
    "###### YearRemodAdd\tRemodel date (same as construction date if no remodeling or additions).\n",
    "###### Exterior1st\tExterior covering on house\n",
    "###### BsmtFinSF2\tType 2 finished square feet.\n",
    "###### TotalBsmtSF\tTotal square feet of basement area\n",
    "###### SalePrice\tTo be predicted"
   ]
  },
  {
   "cell_type": "code",
   "execution_count": 3,
   "metadata": {},
   "outputs": [
    {
     "data": {
      "text/html": [
       "<div>\n",
       "<style scoped>\n",
       "    .dataframe tbody tr th:only-of-type {\n",
       "        vertical-align: middle;\n",
       "    }\n",
       "\n",
       "    .dataframe tbody tr th {\n",
       "        vertical-align: top;\n",
       "    }\n",
       "\n",
       "    .dataframe thead th {\n",
       "        text-align: right;\n",
       "    }\n",
       "</style>\n",
       "<table border=\"1\" class=\"dataframe\">\n",
       "  <thead>\n",
       "    <tr style=\"text-align: right;\">\n",
       "      <th></th>\n",
       "      <th>Id</th>\n",
       "      <th>MSSubClass</th>\n",
       "      <th>MSZoning</th>\n",
       "      <th>LotArea</th>\n",
       "      <th>LotConfig</th>\n",
       "      <th>BldgType</th>\n",
       "      <th>OverallCond</th>\n",
       "      <th>YearBuilt</th>\n",
       "      <th>YearRemodAdd</th>\n",
       "      <th>Exterior1st</th>\n",
       "      <th>BsmtFinSF2</th>\n",
       "      <th>TotalBsmtSF</th>\n",
       "      <th>SalePrice</th>\n",
       "    </tr>\n",
       "  </thead>\n",
       "  <tbody>\n",
       "    <tr>\n",
       "      <th>0</th>\n",
       "      <td>0</td>\n",
       "      <td>60</td>\n",
       "      <td>RL</td>\n",
       "      <td>8450</td>\n",
       "      <td>Inside</td>\n",
       "      <td>1Fam</td>\n",
       "      <td>5</td>\n",
       "      <td>2003</td>\n",
       "      <td>2003</td>\n",
       "      <td>VinylSd</td>\n",
       "      <td>0.0</td>\n",
       "      <td>856.0</td>\n",
       "      <td>208500.0</td>\n",
       "    </tr>\n",
       "    <tr>\n",
       "      <th>1</th>\n",
       "      <td>1</td>\n",
       "      <td>20</td>\n",
       "      <td>RL</td>\n",
       "      <td>9600</td>\n",
       "      <td>FR2</td>\n",
       "      <td>1Fam</td>\n",
       "      <td>8</td>\n",
       "      <td>1976</td>\n",
       "      <td>1976</td>\n",
       "      <td>MetalSd</td>\n",
       "      <td>0.0</td>\n",
       "      <td>1262.0</td>\n",
       "      <td>181500.0</td>\n",
       "    </tr>\n",
       "    <tr>\n",
       "      <th>2</th>\n",
       "      <td>2</td>\n",
       "      <td>60</td>\n",
       "      <td>RL</td>\n",
       "      <td>11250</td>\n",
       "      <td>Inside</td>\n",
       "      <td>1Fam</td>\n",
       "      <td>5</td>\n",
       "      <td>2001</td>\n",
       "      <td>2002</td>\n",
       "      <td>VinylSd</td>\n",
       "      <td>0.0</td>\n",
       "      <td>920.0</td>\n",
       "      <td>223500.0</td>\n",
       "    </tr>\n",
       "    <tr>\n",
       "      <th>3</th>\n",
       "      <td>3</td>\n",
       "      <td>70</td>\n",
       "      <td>RL</td>\n",
       "      <td>9550</td>\n",
       "      <td>Corner</td>\n",
       "      <td>1Fam</td>\n",
       "      <td>5</td>\n",
       "      <td>1915</td>\n",
       "      <td>1970</td>\n",
       "      <td>Wd Sdng</td>\n",
       "      <td>0.0</td>\n",
       "      <td>756.0</td>\n",
       "      <td>140000.0</td>\n",
       "    </tr>\n",
       "    <tr>\n",
       "      <th>4</th>\n",
       "      <td>4</td>\n",
       "      <td>60</td>\n",
       "      <td>RL</td>\n",
       "      <td>14260</td>\n",
       "      <td>FR2</td>\n",
       "      <td>1Fam</td>\n",
       "      <td>5</td>\n",
       "      <td>2000</td>\n",
       "      <td>2000</td>\n",
       "      <td>VinylSd</td>\n",
       "      <td>0.0</td>\n",
       "      <td>1145.0</td>\n",
       "      <td>250000.0</td>\n",
       "    </tr>\n",
       "    <tr>\n",
       "      <th>...</th>\n",
       "      <td>...</td>\n",
       "      <td>...</td>\n",
       "      <td>...</td>\n",
       "      <td>...</td>\n",
       "      <td>...</td>\n",
       "      <td>...</td>\n",
       "      <td>...</td>\n",
       "      <td>...</td>\n",
       "      <td>...</td>\n",
       "      <td>...</td>\n",
       "      <td>...</td>\n",
       "      <td>...</td>\n",
       "      <td>...</td>\n",
       "    </tr>\n",
       "    <tr>\n",
       "      <th>2914</th>\n",
       "      <td>2914</td>\n",
       "      <td>160</td>\n",
       "      <td>RM</td>\n",
       "      <td>1936</td>\n",
       "      <td>Inside</td>\n",
       "      <td>Twnhs</td>\n",
       "      <td>7</td>\n",
       "      <td>1970</td>\n",
       "      <td>1970</td>\n",
       "      <td>CemntBd</td>\n",
       "      <td>0.0</td>\n",
       "      <td>546.0</td>\n",
       "      <td>NaN</td>\n",
       "    </tr>\n",
       "    <tr>\n",
       "      <th>2915</th>\n",
       "      <td>2915</td>\n",
       "      <td>160</td>\n",
       "      <td>RM</td>\n",
       "      <td>1894</td>\n",
       "      <td>Inside</td>\n",
       "      <td>TwnhsE</td>\n",
       "      <td>5</td>\n",
       "      <td>1970</td>\n",
       "      <td>1970</td>\n",
       "      <td>CemntBd</td>\n",
       "      <td>0.0</td>\n",
       "      <td>546.0</td>\n",
       "      <td>NaN</td>\n",
       "    </tr>\n",
       "    <tr>\n",
       "      <th>2916</th>\n",
       "      <td>2916</td>\n",
       "      <td>20</td>\n",
       "      <td>RL</td>\n",
       "      <td>20000</td>\n",
       "      <td>Inside</td>\n",
       "      <td>1Fam</td>\n",
       "      <td>7</td>\n",
       "      <td>1960</td>\n",
       "      <td>1996</td>\n",
       "      <td>VinylSd</td>\n",
       "      <td>0.0</td>\n",
       "      <td>1224.0</td>\n",
       "      <td>NaN</td>\n",
       "    </tr>\n",
       "    <tr>\n",
       "      <th>2917</th>\n",
       "      <td>2917</td>\n",
       "      <td>85</td>\n",
       "      <td>RL</td>\n",
       "      <td>10441</td>\n",
       "      <td>Inside</td>\n",
       "      <td>1Fam</td>\n",
       "      <td>5</td>\n",
       "      <td>1992</td>\n",
       "      <td>1992</td>\n",
       "      <td>HdBoard</td>\n",
       "      <td>0.0</td>\n",
       "      <td>912.0</td>\n",
       "      <td>NaN</td>\n",
       "    </tr>\n",
       "    <tr>\n",
       "      <th>2918</th>\n",
       "      <td>2918</td>\n",
       "      <td>60</td>\n",
       "      <td>RL</td>\n",
       "      <td>9627</td>\n",
       "      <td>Inside</td>\n",
       "      <td>1Fam</td>\n",
       "      <td>5</td>\n",
       "      <td>1993</td>\n",
       "      <td>1994</td>\n",
       "      <td>HdBoard</td>\n",
       "      <td>0.0</td>\n",
       "      <td>996.0</td>\n",
       "      <td>NaN</td>\n",
       "    </tr>\n",
       "  </tbody>\n",
       "</table>\n",
       "<p>2919 rows × 13 columns</p>\n",
       "</div>"
      ],
      "text/plain": [
       "        Id  MSSubClass MSZoning  LotArea LotConfig BldgType  OverallCond  \\\n",
       "0        0          60       RL     8450    Inside     1Fam            5   \n",
       "1        1          20       RL     9600       FR2     1Fam            8   \n",
       "2        2          60       RL    11250    Inside     1Fam            5   \n",
       "3        3          70       RL     9550    Corner     1Fam            5   \n",
       "4        4          60       RL    14260       FR2     1Fam            5   \n",
       "...    ...         ...      ...      ...       ...      ...          ...   \n",
       "2914  2914         160       RM     1936    Inside    Twnhs            7   \n",
       "2915  2915         160       RM     1894    Inside   TwnhsE            5   \n",
       "2916  2916          20       RL    20000    Inside     1Fam            7   \n",
       "2917  2917          85       RL    10441    Inside     1Fam            5   \n",
       "2918  2918          60       RL     9627    Inside     1Fam            5   \n",
       "\n",
       "      YearBuilt  YearRemodAdd Exterior1st  BsmtFinSF2  TotalBsmtSF  SalePrice  \n",
       "0          2003          2003     VinylSd         0.0        856.0   208500.0  \n",
       "1          1976          1976     MetalSd         0.0       1262.0   181500.0  \n",
       "2          2001          2002     VinylSd         0.0        920.0   223500.0  \n",
       "3          1915          1970     Wd Sdng         0.0        756.0   140000.0  \n",
       "4          2000          2000     VinylSd         0.0       1145.0   250000.0  \n",
       "...         ...           ...         ...         ...          ...        ...  \n",
       "2914       1970          1970     CemntBd         0.0        546.0        NaN  \n",
       "2915       1970          1970     CemntBd         0.0        546.0        NaN  \n",
       "2916       1960          1996     VinylSd         0.0       1224.0        NaN  \n",
       "2917       1992          1992     HdBoard         0.0        912.0        NaN  \n",
       "2918       1993          1994     HdBoard         0.0        996.0        NaN  \n",
       "\n",
       "[2919 rows x 13 columns]"
      ]
     },
     "execution_count": 3,
     "metadata": {},
     "output_type": "execute_result"
    }
   ],
   "source": [
    "#Checking the dataset\n",
    "df"
   ]
  },
  {
   "cell_type": "code",
   "execution_count": 4,
   "metadata": {},
   "outputs": [
    {
     "data": {
      "text/plain": [
       "Id                 0\n",
       "MSSubClass         0\n",
       "MSZoning           4\n",
       "LotArea            0\n",
       "LotConfig          0\n",
       "BldgType           0\n",
       "OverallCond        0\n",
       "YearBuilt          0\n",
       "YearRemodAdd       0\n",
       "Exterior1st        1\n",
       "BsmtFinSF2         1\n",
       "TotalBsmtSF        1\n",
       "SalePrice       1459\n",
       "dtype: int64"
      ]
     },
     "execution_count": 4,
     "metadata": {},
     "output_type": "execute_result"
    }
   ],
   "source": [
    "#Checking the missing values\n",
    "df.isna().sum()"
   ]
  },
  {
   "cell_type": "code",
   "execution_count": 5,
   "metadata": {},
   "outputs": [
    {
     "data": {
      "text/plain": [
       "<Axes: >"
      ]
     },
     "execution_count": 5,
     "metadata": {},
     "output_type": "execute_result"
    },
    {
     "data": {
      "image/png": "[encoded data removed]",
      "text/plain": [
       "<Figure size 640x480 with 1 Axes>"
      ]
     },
     "metadata": {},
     "output_type": "display_data"
    }
   ],
   "source": [
    "#Checking the outliers and importing the libraries for related libraries\n",
    "import seaborn as sns\n",
    "sns.boxplot(df)"
   ]
  },
  {
   "cell_type": "code",
   "execution_count": 6,
   "metadata": {},
   "outputs": [
    {
     "data": {
      "text/plain": [
       "array([ 8450,  9600, 11250, ...,  1894, 20000, 10441], dtype=int64)"
      ]
     },
     "execution_count": 6,
     "metadata": {},
     "output_type": "execute_result"
    }
   ],
   "source": [
    "#Checking the unique values in LotArea\n",
    "df['LotArea'].unique()"
   ]
  },
  {
   "cell_type": "code",
   "execution_count": 7,
   "metadata": {},
   "outputs": [
    {
     "data": {
      "text/plain": [
       "<seaborn.axisgrid.FacetGrid at 0x1d14e2b8b90>"
      ]
     },
     "execution_count": 7,
     "metadata": {},
     "output_type": "execute_result"
    },
    {
     "data": {
      "image/png": "[encoded data removed]",
      "text/plain": [
       "<Figure size 500x500 with 1 Axes>"
      ]
     },
     "metadata": {},
     "output_type": "display_data"
    }
   ],
   "source": [
    "#Checking the distribution of LotArea\n",
    "sns.displot(df['LotArea'])"
   ]
  },
  {
   "cell_type": "code",
   "execution_count": 8,
   "metadata": {},
   "outputs": [],
   "source": [
    "#Now tranforming the outlier so as to get normal distribution and get avoid data noisy\n",
    "q3 = df[\"LotArea\"].quantile(0.75)  \n",
    "q1 = df[\"LotArea\"].quantile(0.25)\n",
    "IQR = q3 - q1\n",
    "lower_limit = q1 - (IQR * 1.5)\n",
    "upper_limit = q3 + (IQR * 1.5)\n"
   ]
  },
  {
   "cell_type": "code",
   "execution_count": 9,
   "metadata": {},
   "outputs": [],
   "source": [
    "# Transformed outlier attribute\n",
    "df[\"LotArea\"] = np.where(df[\"LotArea\"]> upper_limit, upper_limit,\n",
    "                        np.where(df[\"LotArea\"]< lower_limit, lower_limit,\n",
    "                          df[\"LotArea\"]))"
   ]
  },
  {
   "cell_type": "code",
   "execution_count": 10,
   "metadata": {},
   "outputs": [
    {
     "data": {
      "text/plain": [
       "<Axes: ylabel='LotArea'>"
      ]
     },
     "execution_count": 10,
     "metadata": {},
     "output_type": "execute_result"
    },
    {
     "data": {
      "image/png": "[encoded data removed]",
      "text/plain": [
       "<Figure size 640x480 with 1 Axes>"
      ]
     },
     "metadata": {},
     "output_type": "display_data"
    }
   ],
   "source": [
    "#Transformed outlier check\n",
    "sns.boxplot(df['LotArea'])"
   ]
  },
  {
   "cell_type": "code",
   "execution_count": 11,
   "metadata": {},
   "outputs": [
    {
     "data": {
      "text/plain": [
       "<Axes: xlabel='LotArea', ylabel='Density'>"
      ]
     },
     "execution_count": 11,
     "metadata": {},
     "output_type": "execute_result"
    },
    {
     "data": {
      "image/png": "[encoded data removed]",
      "text/plain": [
       "<Figure size 640x480 with 1 Axes>"
      ]
     },
     "metadata": {},
     "output_type": "display_data"
    }
   ],
   "source": [
    "#Transformed outlier distribution\n",
    "sns.kdeplot(df['LotArea'])"
   ]
  },
  {
   "cell_type": "code",
   "execution_count": 12,
   "metadata": {},
   "outputs": [
    {
     "data": {
      "text/plain": [
       "<Axes: xlabel='SalePrice', ylabel='Density'>"
      ]
     },
     "execution_count": 12,
     "metadata": {},
     "output_type": "execute_result"
    },
    {
     "data": {
      "image/png": "[encoded data removed]",
      "text/plain": [
       "<Figure size 640x480 with 1 Axes>"
      ]
     },
     "metadata": {},
     "output_type": "display_data"
    }
   ],
   "source": [
    "#Chcking the distribution of SalePrice\n",
    "sns.kdeplot(df['SalePrice'])"
   ]
  },
  {
   "cell_type": "code",
   "execution_count": 13,
   "metadata": {},
   "outputs": [],
   "source": [
    "#Now going it with SalePrice\n",
    "#Now tranforming the outlier so as to get normal distribution and get avoid data noisy\n",
    "q3 = df[\"SalePrice\"].quantile(0.75)  \n",
    "q1 = df[\"SalePrice\"].quantile(0.25)\n",
    "IQR = q3 - q1\n",
    "lower_limit = q1 - (IQR * 1.5)\n",
    "upper_limit = q3 + (IQR * 1.5)\n"
   ]
  },
  {
   "cell_type": "code",
   "execution_count": 14,
   "metadata": {},
   "outputs": [],
   "source": [
    "# Transformed outlier attribute\n",
    "df[\"SalePrice\"] = np.where(df[\"SalePrice\"]> upper_limit, upper_limit,\n",
    "                        np.where(df[\"SalePrice\"]< lower_limit, lower_limit,\n",
    "                          df[\"SalePrice\"]))"
   ]
  },
  {
   "cell_type": "code",
   "execution_count": 15,
   "metadata": {},
   "outputs": [
    {
     "data": {
      "text/plain": [
       "<Axes: ylabel='SalePrice'>"
      ]
     },
     "execution_count": 15,
     "metadata": {},
     "output_type": "execute_result"
    },
    {
     "data": {
      "image/png": "[encoded data removed]",
      "text/plain": [
       "<Figure size 640x480 with 1 Axes>"
      ]
     },
     "metadata": {},
     "output_type": "display_data"
    }
   ],
   "source": [
    "#Transformed outlier check\n",
    "sns.boxplot(df['SalePrice'])"
   ]
  },
  {
   "cell_type": "code",
   "execution_count": 16,
   "metadata": {},
   "outputs": [
    {
     "data": {
      "text/plain": [
       "<Axes: xlabel='SalePrice', ylabel='Density'>"
      ]
     },
     "execution_count": 16,
     "metadata": {},
     "output_type": "execute_result"
    },
    {
     "data": {
      "image/png": "[encoded data removed]",
      "text/plain": [
       "<Figure size 640x480 with 1 Axes>"
      ]
     },
     "metadata": {},
     "output_type": "display_data"
    }
   ],
   "source": [
    "sns.kdeplot(df['SalePrice'])"
   ]
  },
  {
   "cell_type": "code",
   "execution_count": 17,
   "metadata": {},
   "outputs": [
    {
     "data": {
      "text/plain": [
       "Id                 0\n",
       "MSSubClass         0\n",
       "MSZoning           4\n",
       "LotArea            0\n",
       "LotConfig          0\n",
       "BldgType           0\n",
       "OverallCond        0\n",
       "YearBuilt          0\n",
       "YearRemodAdd       0\n",
       "Exterior1st        1\n",
       "BsmtFinSF2         1\n",
       "TotalBsmtSF        1\n",
       "SalePrice       1459\n",
       "dtype: int64"
      ]
     },
     "execution_count": 17,
     "metadata": {},
     "output_type": "execute_result"
    }
   ],
   "source": [
    "df.isna().sum()"
   ]
  },
  {
   "cell_type": "code",
   "execution_count": 18,
   "metadata": {},
   "outputs": [],
   "source": [
    "#Now filling missing values\n",
    "#Importing libraries\n",
    "from sklearn.experimental import enable_iterative_imputer\n",
    "from sklearn.impute import IterativeImputer\n"
   ]
  },
  {
   "cell_type": "code",
   "execution_count": 19,
   "metadata": {},
   "outputs": [],
   "source": [
    "imp = IterativeImputer(random_state=0)\n",
    "imputed = imp.fit_transform(df[['SalePrice']])  # Pass SalePrice as a DataFrame\n",
    "df['SalePrice'] = pd.DataFrame(imputed, columns=['SalePrice'])  # Convert the imputed values back to DataFrame\n",
    "\n",
    "# Round the values\n",
    "df['SalePrice'] = df['SalePrice'].round(0)"
   ]
  },
  {
   "cell_type": "code",
   "execution_count": 20,
   "metadata": {},
   "outputs": [
    {
     "data": {
      "text/plain": [
       "0       208500\n",
       "1       181500\n",
       "2       223500\n",
       "3       140000\n",
       "4       250000\n",
       "         ...  \n",
       "2914    177332\n",
       "2915    177332\n",
       "2916    177332\n",
       "2917    177332\n",
       "2918    177332\n",
       "Name: SalePrice, Length: 2919, dtype: int32"
      ]
     },
     "execution_count": 20,
     "metadata": {},
     "output_type": "execute_result"
    }
   ],
   "source": [
    "#The dataset with filled values\n",
    "df['SalePrice'].astype(int)"
   ]
  },
  {
   "cell_type": "code",
   "execution_count": 21,
   "metadata": {},
   "outputs": [
    {
     "data": {
      "text/plain": [
       "Id              0\n",
       "MSSubClass      0\n",
       "MSZoning        4\n",
       "LotArea         0\n",
       "LotConfig       0\n",
       "BldgType        0\n",
       "OverallCond     0\n",
       "YearBuilt       0\n",
       "YearRemodAdd    0\n",
       "Exterior1st     1\n",
       "BsmtFinSF2      1\n",
       "TotalBsmtSF     1\n",
       "SalePrice       0\n",
       "dtype: int64"
      ]
     },
     "execution_count": 21,
     "metadata": {},
     "output_type": "execute_result"
    }
   ],
   "source": [
    "df.isna().sum()"
   ]
  },
  {
   "cell_type": "code",
   "execution_count": 22,
   "metadata": {},
   "outputs": [],
   "source": [
    "#Now we can drop low missing values ones\n",
    "new_df = df.dropna()"
   ]
  },
  {
   "cell_type": "code",
   "execution_count": 23,
   "metadata": {},
   "outputs": [
    {
     "data": {
      "text/plain": [
       "Id              0\n",
       "MSSubClass      0\n",
       "MSZoning        0\n",
       "LotArea         0\n",
       "LotConfig       0\n",
       "BldgType        0\n",
       "OverallCond     0\n",
       "YearBuilt       0\n",
       "YearRemodAdd    0\n",
       "Exterior1st     0\n",
       "BsmtFinSF2      0\n",
       "TotalBsmtSF     0\n",
       "SalePrice       0\n",
       "dtype: int64"
      ]
     },
     "execution_count": 23,
     "metadata": {},
     "output_type": "execute_result"
    }
   ],
   "source": [
    "new_df.isna().sum()"
   ]
  },
  {
   "cell_type": "code",
   "execution_count": 24,
   "metadata": {},
   "outputs": [
    {
     "data": {
      "text/plain": [
       "0       208500\n",
       "1       181500\n",
       "2       223500\n",
       "3       140000\n",
       "4       250000\n",
       "         ...  \n",
       "2914    177332\n",
       "2915    177332\n",
       "2916    177332\n",
       "2917    177332\n",
       "2918    177332\n",
       "Name: SalePrice, Length: 2913, dtype: int32"
      ]
     },
     "execution_count": 24,
     "metadata": {},
     "output_type": "execute_result"
    }
   ],
   "source": [
    "new_df['SalePrice'].astype(int)"
   ]
  },
  {
   "cell_type": "code",
   "execution_count": 25,
   "metadata": {},
   "outputs": [
    {
     "data": {
      "text/plain": [
       "array(['RL', 'RM', 'C (all)', 'FV', 'RH'], dtype=object)"
      ]
     },
     "execution_count": 25,
     "metadata": {},
     "output_type": "execute_result"
    }
   ],
   "source": [
    "#Handling Categorical Values\n",
    "#So listing the categorical values for categorical values - MSZoning, LotConfig, BldgType, Exterior1st\n",
    "#So listing the techniques, we can do to handle these attributes.\n",
    "new_df['MSZoning'].unique()"
   ]
  },
  {
   "cell_type": "code",
   "execution_count": 26,
   "metadata": {},
   "outputs": [
    {
     "data": {
      "text/plain": [
       "array(['VinylSd', 'MetalSd', 'Wd Sdng', 'HdBoard', 'BrkFace', 'WdShing',\n",
       "       'CemntBd', 'Plywood', 'AsbShng', 'Stucco', 'BrkComm', 'AsphShn',\n",
       "       'Stone', 'ImStucc', 'CBlock'], dtype=object)"
      ]
     },
     "execution_count": 26,
     "metadata": {},
     "output_type": "execute_result"
    }
   ],
   "source": [
    "new_df['Exterior1st'].unique()"
   ]
  },
  {
   "cell_type": "code",
   "execution_count": 27,
   "metadata": {},
   "outputs": [
    {
     "data": {
      "text/plain": [
       "array(['1Fam', '2fmCon', 'Duplex', 'TwnhsE', 'Twnhs'], dtype=object)"
      ]
     },
     "execution_count": 27,
     "metadata": {},
     "output_type": "execute_result"
    }
   ],
   "source": [
    "new_df['BldgType'].unique()"
   ]
  },
  {
   "cell_type": "code",
   "execution_count": 28,
   "metadata": {},
   "outputs": [
    {
     "data": {
      "text/plain": [
       "array(['Inside', 'FR2', 'Corner', 'CulDSac', 'FR3'], dtype=object)"
      ]
     },
     "execution_count": 28,
     "metadata": {},
     "output_type": "execute_result"
    }
   ],
   "source": [
    "new_df['LotConfig'].unique()"
   ]
  },
  {
   "cell_type": "code",
   "execution_count": 29,
   "metadata": {},
   "outputs": [],
   "source": [
    "#As we have seen the values inside it, we can say that we can handle these attributes by having use of ordinal enncoding.\n",
    "#Importing the dataset\n",
    "from sklearn.preprocessing import OrdinalEncoder\n",
    "import pandas as pd\n",
    "import warnings\n",
    "warnings.filterwarnings(\"ignore\")"
   ]
  },
  {
   "cell_type": "code",
   "execution_count": 30,
   "metadata": {},
   "outputs": [
    {
     "data": {
      "text/plain": [
       "Id              0\n",
       "MSSubClass      0\n",
       "MSZoning        0\n",
       "LotArea         0\n",
       "LotConfig       0\n",
       "BldgType        0\n",
       "OverallCond     0\n",
       "YearBuilt       0\n",
       "YearRemodAdd    0\n",
       "Exterior1st     0\n",
       "BsmtFinSF2      0\n",
       "TotalBsmtSF     0\n",
       "SalePrice       0\n",
       "dtype: int64"
      ]
     },
     "execution_count": 30,
     "metadata": {},
     "output_type": "execute_result"
    }
   ],
   "source": [
    "new_df.isna().sum()"
   ]
  },
  {
   "cell_type": "code",
   "execution_count": 31,
   "metadata": {},
   "outputs": [],
   "source": [
    "# Initialize the OrdinalEncoder\n",
    "oe1 = OrdinalEncoder(categories=[['RL', 'RM', 'C (all)', 'FV', 'RH']], dtype='int32')  # Specify the order of categories if needed\n",
    "oe2 = OrdinalEncoder(categories=[['VinylSd', 'MetalSd', 'Wd Sdng', 'HdBoard', 'BrkFace', 'WdShing', 'CemntBd', 'Plywood', 'AsbShng', 'Stucco', 'BrkComm', 'AsphShn', 'Stone', 'ImStucc', 'CBlock']], dtype='int32')  # Specify the order of categories if needed\n",
    "oe3 = OrdinalEncoder(categories=[['1Fam', '2fmCon', 'Duplex', 'TwnhsE', 'Twnhs']], dtype='int32')  # Specify the order of categories if needed\n",
    "oe4 = OrdinalEncoder(categories=[['Inside', 'FR2', 'Corner', 'CulDSac', 'FR3']], dtype='int32')  # Specify the order of categories if needed\n",
    "\n",
    "# Fit and transform the data\n",
    "new_df['MSZoning'] = oe1.fit_transform(new_df[['MSZoning']])\n",
    "new_df['Exterior1st'] = oe2.fit_transform(new_df[['Exterior1st']])\n",
    "new_df['BldgType'] = oe3.fit_transform(new_df[['BldgType']])\n",
    "new_df['LotConfig'] = oe4.fit_transform(new_df[['LotConfig']])\n"
   ]
  },
  {
   "cell_type": "code",
   "execution_count": 32,
   "metadata": {},
   "outputs": [
    {
     "data": {
      "text/html": [
       "<div>\n",
       "<style scoped>\n",
       "    .dataframe tbody tr th:only-of-type {\n",
       "        vertical-align: middle;\n",
       "    }\n",
       "\n",
       "    .dataframe tbody tr th {\n",
       "        vertical-align: top;\n",
       "    }\n",
       "\n",
       "    .dataframe thead th {\n",
       "        text-align: right;\n",
       "    }\n",
       "</style>\n",
       "<table border=\"1\" class=\"dataframe\">\n",
       "  <thead>\n",
       "    <tr style=\"text-align: right;\">\n",
       "      <th></th>\n",
       "      <th>Id</th>\n",
       "      <th>MSSubClass</th>\n",
       "      <th>MSZoning</th>\n",
       "      <th>LotArea</th>\n",
       "      <th>LotConfig</th>\n",
       "      <th>BldgType</th>\n",
       "      <th>OverallCond</th>\n",
       "      <th>YearBuilt</th>\n",
       "      <th>YearRemodAdd</th>\n",
       "      <th>Exterior1st</th>\n",
       "      <th>BsmtFinSF2</th>\n",
       "      <th>TotalBsmtSF</th>\n",
       "      <th>SalePrice</th>\n",
       "    </tr>\n",
       "  </thead>\n",
       "  <tbody>\n",
       "    <tr>\n",
       "      <th>0</th>\n",
       "      <td>0</td>\n",
       "      <td>60</td>\n",
       "      <td>0</td>\n",
       "      <td>8450.0</td>\n",
       "      <td>0</td>\n",
       "      <td>0</td>\n",
       "      <td>5</td>\n",
       "      <td>2003</td>\n",
       "      <td>2003</td>\n",
       "      <td>0</td>\n",
       "      <td>0.0</td>\n",
       "      <td>856.0</td>\n",
       "      <td>208500.0</td>\n",
       "    </tr>\n",
       "    <tr>\n",
       "      <th>1</th>\n",
       "      <td>1</td>\n",
       "      <td>20</td>\n",
       "      <td>0</td>\n",
       "      <td>9600.0</td>\n",
       "      <td>1</td>\n",
       "      <td>0</td>\n",
       "      <td>8</td>\n",
       "      <td>1976</td>\n",
       "      <td>1976</td>\n",
       "      <td>1</td>\n",
       "      <td>0.0</td>\n",
       "      <td>1262.0</td>\n",
       "      <td>181500.0</td>\n",
       "    </tr>\n",
       "    <tr>\n",
       "      <th>2</th>\n",
       "      <td>2</td>\n",
       "      <td>60</td>\n",
       "      <td>0</td>\n",
       "      <td>11250.0</td>\n",
       "      <td>0</td>\n",
       "      <td>0</td>\n",
       "      <td>5</td>\n",
       "      <td>2001</td>\n",
       "      <td>2002</td>\n",
       "      <td>0</td>\n",
       "      <td>0.0</td>\n",
       "      <td>920.0</td>\n",
       "      <td>223500.0</td>\n",
       "    </tr>\n",
       "    <tr>\n",
       "      <th>3</th>\n",
       "      <td>3</td>\n",
       "      <td>70</td>\n",
       "      <td>0</td>\n",
       "      <td>9550.0</td>\n",
       "      <td>2</td>\n",
       "      <td>0</td>\n",
       "      <td>5</td>\n",
       "      <td>1915</td>\n",
       "      <td>1970</td>\n",
       "      <td>2</td>\n",
       "      <td>0.0</td>\n",
       "      <td>756.0</td>\n",
       "      <td>140000.0</td>\n",
       "    </tr>\n",
       "    <tr>\n",
       "      <th>4</th>\n",
       "      <td>4</td>\n",
       "      <td>60</td>\n",
       "      <td>0</td>\n",
       "      <td>14260.0</td>\n",
       "      <td>1</td>\n",
       "      <td>0</td>\n",
       "      <td>5</td>\n",
       "      <td>2000</td>\n",
       "      <td>2000</td>\n",
       "      <td>0</td>\n",
       "      <td>0.0</td>\n",
       "      <td>1145.0</td>\n",
       "      <td>250000.0</td>\n",
       "    </tr>\n",
       "    <tr>\n",
       "      <th>...</th>\n",
       "      <td>...</td>\n",
       "      <td>...</td>\n",
       "      <td>...</td>\n",
       "      <td>...</td>\n",
       "      <td>...</td>\n",
       "      <td>...</td>\n",
       "      <td>...</td>\n",
       "      <td>...</td>\n",
       "      <td>...</td>\n",
       "      <td>...</td>\n",
       "      <td>...</td>\n",
       "      <td>...</td>\n",
       "      <td>...</td>\n",
       "    </tr>\n",
       "    <tr>\n",
       "      <th>2914</th>\n",
       "      <td>2914</td>\n",
       "      <td>160</td>\n",
       "      <td>1</td>\n",
       "      <td>1936.0</td>\n",
       "      <td>0</td>\n",
       "      <td>4</td>\n",
       "      <td>7</td>\n",
       "      <td>1970</td>\n",
       "      <td>1970</td>\n",
       "      <td>6</td>\n",
       "      <td>0.0</td>\n",
       "      <td>546.0</td>\n",
       "      <td>177332.0</td>\n",
       "    </tr>\n",
       "    <tr>\n",
       "      <th>2915</th>\n",
       "      <td>2915</td>\n",
       "      <td>160</td>\n",
       "      <td>1</td>\n",
       "      <td>1894.0</td>\n",
       "      <td>0</td>\n",
       "      <td>3</td>\n",
       "      <td>5</td>\n",
       "      <td>1970</td>\n",
       "      <td>1970</td>\n",
       "      <td>6</td>\n",
       "      <td>0.0</td>\n",
       "      <td>546.0</td>\n",
       "      <td>177332.0</td>\n",
       "    </tr>\n",
       "    <tr>\n",
       "      <th>2916</th>\n",
       "      <td>2916</td>\n",
       "      <td>20</td>\n",
       "      <td>0</td>\n",
       "      <td>17708.0</td>\n",
       "      <td>0</td>\n",
       "      <td>0</td>\n",
       "      <td>7</td>\n",
       "      <td>1960</td>\n",
       "      <td>1996</td>\n",
       "      <td>0</td>\n",
       "      <td>0.0</td>\n",
       "      <td>1224.0</td>\n",
       "      <td>177332.0</td>\n",
       "    </tr>\n",
       "    <tr>\n",
       "      <th>2917</th>\n",
       "      <td>2917</td>\n",
       "      <td>85</td>\n",
       "      <td>0</td>\n",
       "      <td>10441.0</td>\n",
       "      <td>0</td>\n",
       "      <td>0</td>\n",
       "      <td>5</td>\n",
       "      <td>1992</td>\n",
       "      <td>1992</td>\n",
       "      <td>3</td>\n",
       "      <td>0.0</td>\n",
       "      <td>912.0</td>\n",
       "      <td>177332.0</td>\n",
       "    </tr>\n",
       "    <tr>\n",
       "      <th>2918</th>\n",
       "      <td>2918</td>\n",
       "      <td>60</td>\n",
       "      <td>0</td>\n",
       "      <td>9627.0</td>\n",
       "      <td>0</td>\n",
       "      <td>0</td>\n",
       "      <td>5</td>\n",
       "      <td>1993</td>\n",
       "      <td>1994</td>\n",
       "      <td>3</td>\n",
       "      <td>0.0</td>\n",
       "      <td>996.0</td>\n",
       "      <td>177332.0</td>\n",
       "    </tr>\n",
       "  </tbody>\n",
       "</table>\n",
       "<p>2913 rows × 13 columns</p>\n",
       "</div>"
      ],
      "text/plain": [
       "        Id  MSSubClass  MSZoning  LotArea  LotConfig  BldgType  OverallCond  \\\n",
       "0        0          60         0   8450.0          0         0            5   \n",
       "1        1          20         0   9600.0          1         0            8   \n",
       "2        2          60         0  11250.0          0         0            5   \n",
       "3        3          70         0   9550.0          2         0            5   \n",
       "4        4          60         0  14260.0          1         0            5   \n",
       "...    ...         ...       ...      ...        ...       ...          ...   \n",
       "2914  2914         160         1   1936.0          0         4            7   \n",
       "2915  2915         160         1   1894.0          0         3            5   \n",
       "2916  2916          20         0  17708.0          0         0            7   \n",
       "2917  2917          85         0  10441.0          0         0            5   \n",
       "2918  2918          60         0   9627.0          0         0            5   \n",
       "\n",
       "      YearBuilt  YearRemodAdd  Exterior1st  BsmtFinSF2  TotalBsmtSF  SalePrice  \n",
       "0          2003          2003            0         0.0        856.0   208500.0  \n",
       "1          1976          1976            1         0.0       1262.0   181500.0  \n",
       "2          2001          2002            0         0.0        920.0   223500.0  \n",
       "3          1915          1970            2         0.0        756.0   140000.0  \n",
       "4          2000          2000            0         0.0       1145.0   250000.0  \n",
       "...         ...           ...          ...         ...          ...        ...  \n",
       "2914       1970          1970            6         0.0        546.0   177332.0  \n",
       "2915       1970          1970            6         0.0        546.0   177332.0  \n",
       "2916       1960          1996            0         0.0       1224.0   177332.0  \n",
       "2917       1992          1992            3         0.0        912.0   177332.0  \n",
       "2918       1993          1994            3         0.0        996.0   177332.0  \n",
       "\n",
       "[2913 rows x 13 columns]"
      ]
     },
     "execution_count": 32,
     "metadata": {},
     "output_type": "execute_result"
    }
   ],
   "source": [
    "new_df"
   ]
  },
  {
   "cell_type": "code",
   "execution_count": 33,
   "metadata": {},
   "outputs": [],
   "source": [
    "#We have now handled categorical values and now proceeding further with feature construction or selection\n",
    "#Now checking correlation between features"
   ]
  },
  {
   "cell_type": "code",
   "execution_count": 34,
   "metadata": {},
   "outputs": [
    {
     "data": {
      "text/plain": [
       "<Axes: >"
      ]
     },
     "execution_count": 34,
     "metadata": {},
     "output_type": "execute_result"
    },
    {
     "data": {
      "image/png": "[encoded data removed]",
      "text/plain": [
       "<Figure size 640x480 with 2 Axes>"
      ]
     },
     "metadata": {},
     "output_type": "display_data"
    }
   ],
   "source": [
    "import matplotlib.pyplot as plt\n",
    "plt.fig=(10, 10)\n",
    "sns.heatmap(new_df.corr())"
   ]
  },
  {
   "cell_type": "code",
   "execution_count": 35,
   "metadata": {},
   "outputs": [],
   "source": [
    "#Prcoeeding further to model selection and checking the accuracy which of them are more accuracy will then final it.\n",
    "#Importing libraries of model which are required: \n",
    "from sklearn.svm import SVR\n",
    "from sklearn.ensemble import RandomForestRegressor\n",
    "from sklearn.linear_model import LinearRegression"
   ]
  },
  {
   "cell_type": "code",
   "execution_count": 36,
   "metadata": {},
   "outputs": [],
   "source": [
    "#Model calling or model creation\n",
    "model1 = SVR()\n",
    "model2 = RandomForestRegressor()\n",
    "model3 = LinearRegression()"
   ]
  },
  {
   "cell_type": "code",
   "execution_count": 37,
   "metadata": {},
   "outputs": [],
   "source": [
    "#Storing x and y in a variable so as to split data into train test manner\n",
    "ind = new_df[['YearBuilt', 'LotArea', 'TotalBsmtSF']]\n",
    "dep = new_df['SalePrice'].astype(int)"
   ]
  },
  {
   "cell_type": "code",
   "execution_count": 38,
   "metadata": {},
   "outputs": [],
   "source": [
    "#train tezt splitting of data\n",
    "from sklearn.model_selection import train_test_split\n",
    "from sklearn.metrics import mean_squared_error,root_mean_squared_error\n",
    "from sklearn.metrics import r2_score\n",
    "\n",
    "Xtrain, Xtest, ytrain, ytest = train_test_split(ind, dep, test_size = 0.25)"
   ]
  },
  {
   "cell_type": "code",
   "execution_count": 39,
   "metadata": {},
   "outputs": [],
   "source": [
    "mean_sale_price = new_df['SalePrice'].mean"
   ]
  },
  {
   "cell_type": "code",
   "execution_count": 40,
   "metadata": {},
   "outputs": [
    {
     "data": {
      "text/plain": [
       "<bound method Series.mean of 0       208500.0\n",
       "1       181500.0\n",
       "2       223500.0\n",
       "3       140000.0\n",
       "4       250000.0\n",
       "          ...   \n",
       "2914    177332.0\n",
       "2915    177332.0\n",
       "2916    177332.0\n",
       "2917    177332.0\n",
       "2918    177332.0\n",
       "Name: SalePrice, Length: 2913, dtype: float64>"
      ]
     },
     "execution_count": 40,
     "metadata": {},
     "output_type": "execute_result"
    }
   ],
   "source": [
    "mean_sale_price"
   ]
  },
  {
   "cell_type": "code",
   "execution_count": 41,
   "metadata": {},
   "outputs": [
    {
     "name": "stdout",
     "output_type": "stream",
     "text": [
      "Model: SVR\n",
      "Root Mean Squared Error (RMSE): 48836.522029359956\n",
      "Percentage RMSE: 23.422792340220603%\n",
      "\n",
      "\n",
      "Model: RandomForestRegressor\n",
      "Root Mean Squared Error (RMSE): 41259.49896757927\n",
      "Percentage RMSE: 19.78872852162075%\n",
      "\n",
      "\n",
      "Model: LinearRegression\n",
      "Root Mean Squared Error (RMSE): 41063.85513968979\n",
      "Percentage RMSE: 19.694894551409973%\n",
      "\n",
      "\n"
     ]
    }
   ],
   "source": [
    "models = [model1, model2, model3]\n",
    "\n",
    "for model in models:\n",
    "    model.fit(Xtrain, ytrain)\n",
    "    y_pred = model.predict(Xtest)\n",
    "    mse = mean_squared_error(ytest, y_pred)\n",
    "    rmse = np.sqrt(mse)\n",
    "    percentage_rmse = (rmse / 208500) * 100\n",
    "    print(f\"Model: {model.__class__.__name__}\")\n",
    "    print(f\"Root Mean Squared Error (RMSE): {rmse}\")\n",
    "    print(f\"Percentage RMSE: {percentage_rmse}%\")\n",
    "    print(\"\\n\")"
   ]
  },
  {
   "cell_type": "code",
   "execution_count": 42,
   "metadata": {},
   "outputs": [],
   "source": [
    "# Assuming mse is the Mean Squared Error and mean_sale_price is the mean sale price\n"
   ]
  }
 ],
 "metadata": {
  "kernelspec": {
   "display_name": "Python 3",
   "language": "python",
   "name": "python3"
  },
  "language_info": {
   "codemirror_mode": {
    "name": "ipython",
    "version": 3
   },
   "file_extension": ".py",
   "mimetype": "text/x-python",
   "name": "python",
   "nbconvert_exporter": "python",
   "pygments_lexer": "ipython3",
   "version": "3.11.5"
  }
 },
 "nbformat": 4,
 "nbformat_minor": 2
}
